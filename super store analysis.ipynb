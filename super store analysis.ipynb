{
 "cells": [
  {
   "cell_type": "markdown",
   "id": "0fce8239-8759-4852-8399-c7fcb11d8360",
   "metadata": {},
   "source": [
    "## importing libraries"
   ]
  },
  {
   "cell_type": "code",
   "execution_count": 1,
   "id": "7cc4290c-1554-43d6-8ecf-8631b45d3844",
   "metadata": {},
   "outputs": [],
   "source": [
    "import pandas as pd\n",
    "import numpy as np\n",
    "import matplotlib.pyplot as plt"
   ]
  },
  {
   "cell_type": "markdown",
   "id": "009ca9c8-6f6e-42fe-96aa-ad832246d715",
   "metadata": {},
   "source": [
    "## reading data to dataframe"
   ]
  },
  {
   "cell_type": "code",
   "execution_count": 2,
   "id": "eaadb051-be41-45fb-9932-5c943f057f40",
   "metadata": {},
   "outputs": [
    {
     "data": {
      "text/html": [
       "<div>\n",
       "<style scoped>\n",
       "    .dataframe tbody tr th:only-of-type {\n",
       "        vertical-align: middle;\n",
       "    }\n",
       "\n",
       "    .dataframe tbody tr th {\n",
       "        vertical-align: top;\n",
       "    }\n",
       "\n",
       "    .dataframe thead th {\n",
       "        text-align: right;\n",
       "    }\n",
       "</style>\n",
       "<table border=\"1\" class=\"dataframe\">\n",
       "  <thead>\n",
       "    <tr style=\"text-align: right;\">\n",
       "      <th></th>\n",
       "      <th>Row ID</th>\n",
       "      <th>Order ID</th>\n",
       "      <th>Order Date</th>\n",
       "      <th>Ship Date</th>\n",
       "      <th>Ship Mode</th>\n",
       "      <th>Customer ID</th>\n",
       "      <th>Customer Name</th>\n",
       "      <th>Segment</th>\n",
       "      <th>Country</th>\n",
       "      <th>City</th>\n",
       "      <th>State</th>\n",
       "      <th>Postal Code</th>\n",
       "      <th>Region</th>\n",
       "      <th>Product ID</th>\n",
       "      <th>Category</th>\n",
       "      <th>Sub-Category</th>\n",
       "      <th>Product Name</th>\n",
       "      <th>Sales</th>\n",
       "    </tr>\n",
       "  </thead>\n",
       "  <tbody>\n",
       "    <tr>\n",
       "      <th>0</th>\n",
       "      <td>1</td>\n",
       "      <td>CA-2017-152156</td>\n",
       "      <td>08/11/2017</td>\n",
       "      <td>11/11/2017</td>\n",
       "      <td>Second Class</td>\n",
       "      <td>CG-12520</td>\n",
       "      <td>Claire Gute</td>\n",
       "      <td>Consumer</td>\n",
       "      <td>United States</td>\n",
       "      <td>Henderson</td>\n",
       "      <td>Kentucky</td>\n",
       "      <td>42420.0</td>\n",
       "      <td>South</td>\n",
       "      <td>FUR-BO-10001798</td>\n",
       "      <td>Furniture</td>\n",
       "      <td>Bookcases</td>\n",
       "      <td>Bush Somerset Collection Bookcase</td>\n",
       "      <td>261.96</td>\n",
       "    </tr>\n",
       "    <tr>\n",
       "      <th>1</th>\n",
       "      <td>2</td>\n",
       "      <td>CA-2017-152156</td>\n",
       "      <td>08/11/2017</td>\n",
       "      <td>11/11/2017</td>\n",
       "      <td>Second Class</td>\n",
       "      <td>CG-12520</td>\n",
       "      <td>Claire Gute</td>\n",
       "      <td>Consumer</td>\n",
       "      <td>United States</td>\n",
       "      <td>Henderson</td>\n",
       "      <td>Kentucky</td>\n",
       "      <td>42420.0</td>\n",
       "      <td>South</td>\n",
       "      <td>FUR-CH-10000454</td>\n",
       "      <td>Furniture</td>\n",
       "      <td>Chairs</td>\n",
       "      <td>Hon Deluxe Fabric Upholstered Stacking Chairs,...</td>\n",
       "      <td>731.94</td>\n",
       "    </tr>\n",
       "  </tbody>\n",
       "</table>\n",
       "</div>"
      ],
      "text/plain": [
       "   Row ID        Order ID  Order Date   Ship Date     Ship Mode Customer ID  \\\n",
       "0       1  CA-2017-152156  08/11/2017  11/11/2017  Second Class    CG-12520   \n",
       "1       2  CA-2017-152156  08/11/2017  11/11/2017  Second Class    CG-12520   \n",
       "\n",
       "  Customer Name   Segment        Country       City     State  Postal Code  \\\n",
       "0   Claire Gute  Consumer  United States  Henderson  Kentucky      42420.0   \n",
       "1   Claire Gute  Consumer  United States  Henderson  Kentucky      42420.0   \n",
       "\n",
       "  Region       Product ID   Category Sub-Category  \\\n",
       "0  South  FUR-BO-10001798  Furniture    Bookcases   \n",
       "1  South  FUR-CH-10000454  Furniture       Chairs   \n",
       "\n",
       "                                        Product Name   Sales  \n",
       "0                  Bush Somerset Collection Bookcase  261.96  \n",
       "1  Hon Deluxe Fabric Upholstered Stacking Chairs,...  731.94  "
      ]
     },
     "execution_count": 2,
     "metadata": {},
     "output_type": "execute_result"
    }
   ],
   "source": [
    "# importin csv file\n",
    "df=pd.read_csv(\"train.csv\")\n",
    "df.head(2)"
   ]
  },
  {
   "cell_type": "markdown",
   "id": "4f5205d3-4b33-4254-9353-ebe9f7afa159",
   "metadata": {},
   "source": [
    "## checking the shape of data"
   ]
  },
  {
   "cell_type": "code",
   "execution_count": 3,
   "id": "2a99ffae-623e-491a-a732-7cbf1021fded",
   "metadata": {},
   "outputs": [
    {
     "data": {
      "text/plain": [
       "(9800, 18)"
      ]
     },
     "execution_count": 3,
     "metadata": {},
     "output_type": "execute_result"
    }
   ],
   "source": [
    "df.shape"
   ]
  },
  {
   "cell_type": "code",
   "execution_count": 3,
   "id": "3f876ee6-7e6a-498c-9a5c-ccacc8927b96",
   "metadata": {},
   "outputs": [
    {
     "name": "stdout",
     "output_type": "stream",
     "text": [
      "<class 'pandas.core.frame.DataFrame'>\n",
      "RangeIndex: 9800 entries, 0 to 9799\n",
      "Data columns (total 18 columns):\n",
      " #   Column         Non-Null Count  Dtype  \n",
      "---  ------         --------------  -----  \n",
      " 0   Row ID         9800 non-null   int64  \n",
      " 1   Order ID       9800 non-null   object \n",
      " 2   Order Date     9800 non-null   object \n",
      " 3   Ship Date      9800 non-null   object \n",
      " 4   Ship Mode      9800 non-null   object \n",
      " 5   Customer ID    9800 non-null   object \n",
      " 6   Customer Name  9800 non-null   object \n",
      " 7   Segment        9800 non-null   object \n",
      " 8   Country        9800 non-null   object \n",
      " 9   City           9800 non-null   object \n",
      " 10  State          9800 non-null   object \n",
      " 11  Postal Code    9789 non-null   float64\n",
      " 12  Region         9800 non-null   object \n",
      " 13  Product ID     9800 non-null   object \n",
      " 14  Category       9800 non-null   object \n",
      " 15  Sub-Category   9800 non-null   object \n",
      " 16  Product Name   9800 non-null   object \n",
      " 17  Sales          9800 non-null   float64\n",
      "dtypes: float64(2), int64(1), object(15)\n",
      "memory usage: 1.3+ MB\n"
     ]
    }
   ],
   "source": [
    "# general overview of the data\n",
    "df.info()"
   ]
  },
  {
   "cell_type": "code",
   "execution_count": 4,
   "id": "df7deb11-9892-4444-9882-671a845c773b",
   "metadata": {},
   "outputs": [
    {
     "name": "stdout",
     "output_type": "stream",
     "text": [
      "11\n"
     ]
    }
   ],
   "source": [
    "# calculating number of null values\n",
    "null_count = df[\"Postal Code\"].isnull().sum()\n",
    "print(null_count)"
   ]
  },
  {
   "cell_type": "code",
   "execution_count": 6,
   "id": "747ee0f2-4983-4197-ab09-944c18e91510",
   "metadata": {},
   "outputs": [
    {
     "data": {
      "text/plain": [
       "count     9789.000000\n",
       "mean     55273.322403\n",
       "std      32041.223413\n",
       "min       1040.000000\n",
       "25%      23223.000000\n",
       "50%      58103.000000\n",
       "75%      90008.000000\n",
       "max      99301.000000\n",
       "Name: Postal Code, dtype: float64"
      ]
     },
     "execution_count": 6,
     "metadata": {},
     "output_type": "execute_result"
    }
   ],
   "source": [
    "df['Postal Code'].describe()"
   ]
  },
  {
   "cell_type": "code",
   "execution_count": 5,
   "id": "f15a6671-f166-4521-b510-a205d53f8256",
   "metadata": {},
   "outputs": [
    {
     "name": "stdout",
     "output_type": "stream",
     "text": [
      "<class 'pandas.core.frame.DataFrame'>\n",
      "RangeIndex: 9800 entries, 0 to 9799\n",
      "Data columns (total 18 columns):\n",
      " #   Column         Non-Null Count  Dtype  \n",
      "---  ------         --------------  -----  \n",
      " 0   Row ID         9800 non-null   int64  \n",
      " 1   Order ID       9800 non-null   object \n",
      " 2   Order Date     9800 non-null   object \n",
      " 3   Ship Date      9800 non-null   object \n",
      " 4   Ship Mode      9800 non-null   object \n",
      " 5   Customer ID    9800 non-null   object \n",
      " 6   Customer Name  9800 non-null   object \n",
      " 7   Segment        9800 non-null   object \n",
      " 8   Country        9800 non-null   object \n",
      " 9   City           9800 non-null   object \n",
      " 10  State          9800 non-null   object \n",
      " 11  Postal Code    9800 non-null   int32  \n",
      " 12  Region         9800 non-null   object \n",
      " 13  Product ID     9800 non-null   object \n",
      " 14  Category       9800 non-null   object \n",
      " 15  Sub-Category   9800 non-null   object \n",
      " 16  Product Name   9800 non-null   object \n",
      " 17  Sales          9800 non-null   float64\n",
      "dtypes: float64(1), int32(1), int64(1), object(15)\n",
      "memory usage: 1.3+ MB\n"
     ]
    }
   ],
   "source": [
    "# filling 0 to empty column\n",
    "\n",
    "df[\"Postal Code\"].fillna(0, inplace = True)\n",
    "\n",
    "# changing from floatr to integer\n",
    "\n",
    "df[\"Postal Code\"] =  df[\"Postal Code\"].astype(int)\n",
    "\n",
    "df.info()\n"
   ]
  },
  {
   "cell_type": "markdown",
   "id": "9ec3b37c-7750-45cf-93f6-b0cdcf193edf",
   "metadata": {},
   "source": [
    "## Data Description\n",
    "generate descriptive stats"
   ]
  },
  {
   "cell_type": "code",
   "execution_count": 6,
   "id": "15b7bc4e-1a7c-4bb7-9738-37c311b58535",
   "metadata": {},
   "outputs": [
    {
     "data": {
      "text/html": [
       "<div>\n",
       "<style scoped>\n",
       "    .dataframe tbody tr th:only-of-type {\n",
       "        vertical-align: middle;\n",
       "    }\n",
       "\n",
       "    .dataframe tbody tr th {\n",
       "        vertical-align: top;\n",
       "    }\n",
       "\n",
       "    .dataframe thead th {\n",
       "        text-align: right;\n",
       "    }\n",
       "</style>\n",
       "<table border=\"1\" class=\"dataframe\">\n",
       "  <thead>\n",
       "    <tr style=\"text-align: right;\">\n",
       "      <th></th>\n",
       "      <th>Row ID</th>\n",
       "      <th>Postal Code</th>\n",
       "      <th>Sales</th>\n",
       "    </tr>\n",
       "  </thead>\n",
       "  <tbody>\n",
       "    <tr>\n",
       "      <th>count</th>\n",
       "      <td>9800.000000</td>\n",
       "      <td>9800.000000</td>\n",
       "      <td>9800.000000</td>\n",
       "    </tr>\n",
       "    <tr>\n",
       "      <th>mean</th>\n",
       "      <td>4900.500000</td>\n",
       "      <td>55211.280918</td>\n",
       "      <td>230.769059</td>\n",
       "    </tr>\n",
       "    <tr>\n",
       "      <th>std</th>\n",
       "      <td>2829.160653</td>\n",
       "      <td>32076.677954</td>\n",
       "      <td>626.651875</td>\n",
       "    </tr>\n",
       "    <tr>\n",
       "      <th>min</th>\n",
       "      <td>1.000000</td>\n",
       "      <td>0.000000</td>\n",
       "      <td>0.444000</td>\n",
       "    </tr>\n",
       "    <tr>\n",
       "      <th>25%</th>\n",
       "      <td>2450.750000</td>\n",
       "      <td>23223.000000</td>\n",
       "      <td>17.248000</td>\n",
       "    </tr>\n",
       "    <tr>\n",
       "      <th>50%</th>\n",
       "      <td>4900.500000</td>\n",
       "      <td>57551.000000</td>\n",
       "      <td>54.490000</td>\n",
       "    </tr>\n",
       "    <tr>\n",
       "      <th>75%</th>\n",
       "      <td>7350.250000</td>\n",
       "      <td>90008.000000</td>\n",
       "      <td>210.605000</td>\n",
       "    </tr>\n",
       "    <tr>\n",
       "      <th>max</th>\n",
       "      <td>9800.000000</td>\n",
       "      <td>99301.000000</td>\n",
       "      <td>22638.480000</td>\n",
       "    </tr>\n",
       "  </tbody>\n",
       "</table>\n",
       "</div>"
      ],
      "text/plain": [
       "            Row ID   Postal Code         Sales\n",
       "count  9800.000000   9800.000000   9800.000000\n",
       "mean   4900.500000  55211.280918    230.769059\n",
       "std    2829.160653  32076.677954    626.651875\n",
       "min       1.000000      0.000000      0.444000\n",
       "25%    2450.750000  23223.000000     17.248000\n",
       "50%    4900.500000  57551.000000     54.490000\n",
       "75%    7350.250000  90008.000000    210.605000\n",
       "max    9800.000000  99301.000000  22638.480000"
      ]
     },
     "execution_count": 6,
     "metadata": {},
     "output_type": "execute_result"
    }
   ],
   "source": [
    "df.describe()"
   ]
  },
  {
   "cell_type": "markdown",
   "id": "97e89c52-ed55-4549-8891-7add7bd31b06",
   "metadata": {},
   "source": [
    "## Data cleaning"
   ]
  },
  {
   "cell_type": "markdown",
   "id": "79b99677-77a1-465d-b72d-c9807bf506a4",
   "metadata": {},
   "source": [
    "### checking for duplicates"
   ]
  },
  {
   "cell_type": "code",
   "execution_count": 7,
   "id": "37725ca1-edab-4195-b0c0-9521dc209f49",
   "metadata": {},
   "outputs": [
    {
     "name": "stdout",
     "output_type": "stream",
     "text": [
      "No duplicates\n"
     ]
    }
   ],
   "source": [
    "# using conditional statements\n",
    "\n",
    "if df.duplicated().sum() > 0:\n",
    "    print(\"Duplicates exists\")\n",
    "else:\n",
    "    print(\"No duplicates\")\n"
   ]
  },
  {
   "cell_type": "markdown",
   "id": "62595c8d-5d87-42b2-a55e-e46eca0a81bf",
   "metadata": {},
   "source": [
    "- using .duplicated format which returns a boolean value.\n",
    "- it is not most convinient when dealing with large datasets since it returns all rows"
   ]
  },
  {
   "cell_type": "code",
   "execution_count": 8,
   "id": "9f9e1d49-9b0a-4374-a0e2-539664922cbb",
   "metadata": {},
   "outputs": [
    {
     "data": {
      "text/plain": [
       "0       False\n",
       "1       False\n",
       "2       False\n",
       "3       False\n",
       "4       False\n",
       "        ...  \n",
       "9795    False\n",
       "9796    False\n",
       "9797    False\n",
       "9798    False\n",
       "9799    False\n",
       "Length: 9800, dtype: bool"
      ]
     },
     "execution_count": 8,
     "metadata": {},
     "output_type": "execute_result"
    }
   ],
   "source": [
    "df.duplicated()"
   ]
  },
  {
   "cell_type": "markdown",
   "id": "431c6d5d-5ee6-4e0d-aa76-a42f4b25ed6b",
   "metadata": {},
   "source": [
    "- using keep parameter\n",
    "- it is most convinient since it returns the count of duplicate records"
   ]
  },
  {
   "cell_type": "code",
   "execution_count": 9,
   "id": "a5a355c7-37a2-47bb-b95f-a8245ef4b361",
   "metadata": {},
   "outputs": [
    {
     "data": {
      "text/plain": [
       "0"
      ]
     },
     "execution_count": 9,
     "metadata": {},
     "output_type": "execute_result"
    }
   ],
   "source": [
    "df.duplicated(keep = False).sum()"
   ]
  },
  {
   "cell_type": "markdown",
   "id": "3969a513-572e-496f-9861-9a846d1233ee",
   "metadata": {},
   "source": [
    "## Exploratory Data Analysis\n",
    "### Customer segmentation"
   ]
  },
  {
   "cell_type": "code",
   "execution_count": 10,
   "id": "66ee9e1e-91bf-4a20-96a0-5c8733e7f89a",
   "metadata": {},
   "outputs": [
    {
     "data": {
      "text/html": [
       "<div>\n",
       "<style scoped>\n",
       "    .dataframe tbody tr th:only-of-type {\n",
       "        vertical-align: middle;\n",
       "    }\n",
       "\n",
       "    .dataframe tbody tr th {\n",
       "        vertical-align: top;\n",
       "    }\n",
       "\n",
       "    .dataframe thead th {\n",
       "        text-align: right;\n",
       "    }\n",
       "</style>\n",
       "<table border=\"1\" class=\"dataframe\">\n",
       "  <thead>\n",
       "    <tr style=\"text-align: right;\">\n",
       "      <th></th>\n",
       "      <th>Row ID</th>\n",
       "      <th>Order ID</th>\n",
       "      <th>Order Date</th>\n",
       "      <th>Ship Date</th>\n",
       "      <th>Ship Mode</th>\n",
       "      <th>Customer ID</th>\n",
       "      <th>Customer Name</th>\n",
       "      <th>Segment</th>\n",
       "      <th>Country</th>\n",
       "      <th>City</th>\n",
       "      <th>State</th>\n",
       "      <th>Postal Code</th>\n",
       "      <th>Region</th>\n",
       "      <th>Product ID</th>\n",
       "      <th>Category</th>\n",
       "      <th>Sub-Category</th>\n",
       "      <th>Product Name</th>\n",
       "      <th>Sales</th>\n",
       "    </tr>\n",
       "  </thead>\n",
       "  <tbody>\n",
       "    <tr>\n",
       "      <th>0</th>\n",
       "      <td>1</td>\n",
       "      <td>CA-2017-152156</td>\n",
       "      <td>08/11/2017</td>\n",
       "      <td>11/11/2017</td>\n",
       "      <td>Second Class</td>\n",
       "      <td>CG-12520</td>\n",
       "      <td>Claire Gute</td>\n",
       "      <td>Consumer</td>\n",
       "      <td>United States</td>\n",
       "      <td>Henderson</td>\n",
       "      <td>Kentucky</td>\n",
       "      <td>42420</td>\n",
       "      <td>South</td>\n",
       "      <td>FUR-BO-10001798</td>\n",
       "      <td>Furniture</td>\n",
       "      <td>Bookcases</td>\n",
       "      <td>Bush Somerset Collection Bookcase</td>\n",
       "      <td>261.96</td>\n",
       "    </tr>\n",
       "    <tr>\n",
       "      <th>1</th>\n",
       "      <td>2</td>\n",
       "      <td>CA-2017-152156</td>\n",
       "      <td>08/11/2017</td>\n",
       "      <td>11/11/2017</td>\n",
       "      <td>Second Class</td>\n",
       "      <td>CG-12520</td>\n",
       "      <td>Claire Gute</td>\n",
       "      <td>Consumer</td>\n",
       "      <td>United States</td>\n",
       "      <td>Henderson</td>\n",
       "      <td>Kentucky</td>\n",
       "      <td>42420</td>\n",
       "      <td>South</td>\n",
       "      <td>FUR-CH-10000454</td>\n",
       "      <td>Furniture</td>\n",
       "      <td>Chairs</td>\n",
       "      <td>Hon Deluxe Fabric Upholstered Stacking Chairs,...</td>\n",
       "      <td>731.94</td>\n",
       "    </tr>\n",
       "  </tbody>\n",
       "</table>\n",
       "</div>"
      ],
      "text/plain": [
       "   Row ID        Order ID  Order Date   Ship Date     Ship Mode Customer ID  \\\n",
       "0       1  CA-2017-152156  08/11/2017  11/11/2017  Second Class    CG-12520   \n",
       "1       2  CA-2017-152156  08/11/2017  11/11/2017  Second Class    CG-12520   \n",
       "\n",
       "  Customer Name   Segment        Country       City     State  Postal Code  \\\n",
       "0   Claire Gute  Consumer  United States  Henderson  Kentucky        42420   \n",
       "1   Claire Gute  Consumer  United States  Henderson  Kentucky        42420   \n",
       "\n",
       "  Region       Product ID   Category Sub-Category  \\\n",
       "0  South  FUR-BO-10001798  Furniture    Bookcases   \n",
       "1  South  FUR-CH-10000454  Furniture       Chairs   \n",
       "\n",
       "                                        Product Name   Sales  \n",
       "0                  Bush Somerset Collection Bookcase  261.96  \n",
       "1  Hon Deluxe Fabric Upholstered Stacking Chairs,...  731.94  "
      ]
     },
     "execution_count": 10,
     "metadata": {},
     "output_type": "execute_result"
    }
   ],
   "source": [
    "df.head(2)"
   ]
  },
  {
   "cell_type": "code",
   "execution_count": 11,
   "id": "762517bb-bf6b-4da0-9332-f5bb7b2f40ce",
   "metadata": {},
   "outputs": [
    {
     "name": "stdout",
     "output_type": "stream",
     "text": [
      "['Consumer' 'Corporate' 'Home Office']\n"
     ]
    }
   ],
   "source": [
    "# type of customers\n",
    "\n",
    "type_of_customers = df['Segment'].unique()\n",
    "print(type_of_customers)"
   ]
  },
  {
   "cell_type": "code",
   "execution_count": 12,
   "id": "762eed01-4294-4977-81c6-f88c975881f6",
   "metadata": {},
   "outputs": [
    {
     "name": "stdout",
     "output_type": "stream",
     "text": [
      "  Customer Type  Total customers\n",
      "0      Consumer             5101\n",
      "1     Corporate             2953\n",
      "2   Home Office             1746\n"
     ]
    }
   ],
   "source": [
    "# number of customers in each segment\n",
    "\n",
    "number_of_customers = df['Segment'].value_counts().reset_index()\n",
    "\n",
    "number_of_customers = number_of_customers.rename(columns = {'Segment':'Customer Type', 'count':'Total customers'}) \n",
    "print(number_of_customers)"
   ]
  },
  {
   "cell_type": "markdown",
   "id": "d8065bbb-b6b4-4e53-9ca5-708f80cc112e",
   "metadata": {},
   "source": [
    "### ploting pie chart"
   ]
  },
  {
   "cell_type": "code",
   "execution_count": 13,
   "id": "f46e0ec0-9259-46a1-9df6-c0aef046e875",
   "metadata": {},
   "outputs": [
    {
     "data": {
      "image/png": "[encoded data removed]",
      "text/plain": [
       "<Figure size 640x480 with 1 Axes>"
      ]
     },
     "metadata": {},
     "output_type": "display_data"
    }
   ],
   "source": [
    "plt.pie(number_of_customers['Total customers'], labels=number_of_customers['Customer Type'], autopct='%1.1f%%')\n",
    "\n",
    "# set pie chart labels\n",
    "plt.title('Distribution of Customers')\n",
    "plt.show()"
   ]
  },
  {
   "cell_type": "markdown",
   "id": "1056794b-a700-452b-b91c-8fa1b731d62c",
   "metadata": {},
   "source": [
    "## customer and sales"
   ]
  },
  {
   "cell_type": "code",
   "execution_count": 14,
   "id": "f28750d1-171c-4243-9ea8-610ebb2e1bf4",
   "metadata": {},
   "outputs": [
    {
     "name": "stdout",
     "output_type": "stream",
     "text": [
      "  Customer Type   Total Sales\n",
      "0      Consumer  1.148061e+06\n",
      "1     Corporate  6.884941e+05\n",
      "2   Home Office  4.249822e+05\n"
     ]
    }
   ],
   "source": [
    "sales_per_category = df.groupby('Segment')['Sales'].sum().reset_index()\n",
    "\n",
    "sales_per_category = sales_per_category.rename(columns = {'Segment':'Customer Type', 'Sales':'Total Sales'}) \n",
    "\n",
    "print(sales_per_category)"
   ]
  },
  {
   "cell_type": "markdown",
   "id": "e7ce411b-e5ea-42ba-a5d6-a1961c7692e5",
   "metadata": {},
   "source": [
    "### plot a bar graph"
   ]
  },
  {
   "cell_type": "code",
   "execution_count": 15,
   "id": "98002de5-b61e-4389-a70e-bfc19b167152",
   "metadata": {},
   "outputs": [
    {
     "data": {
      "image/png": "[encoded data removed]",
      "text/plain": [
       "<Figure size 640x480 with 1 Axes>"
      ]
     },
     "metadata": {},
     "output_type": "display_data"
    }
   ],
   "source": [
    "plt.bar(sales_per_category['Customer Type'],sales_per_category['Total Sales'])\n",
    "\n",
    "# labels\n",
    "\n",
    "plt.title('Sales per Customer Category')\n",
    "plt.xlabel('Customer Type')\n",
    "plt.ylabel('Total sales')\n",
    "\n",
    "plt.show()"
   ]
  },
  {
   "cell_type": "markdown",
   "id": "75d0416f-76df-4d74-857c-d041d74290e0",
   "metadata": {},
   "source": [
    "## Customer loyalty\n",
    "to determine the frequencies of purchase"
   ]
  },
  {
   "cell_type": "code",
   "execution_count": 16,
   "id": "123b4b60-1825-479b-bcfb-048144d4c030",
   "metadata": {},
   "outputs": [
    {
     "data": {
      "text/html": [
       "<div>\n",
       "<style scoped>\n",
       "    .dataframe tbody tr th:only-of-type {\n",
       "        vertical-align: middle;\n",
       "    }\n",
       "\n",
       "    .dataframe tbody tr th {\n",
       "        vertical-align: top;\n",
       "    }\n",
       "\n",
       "    .dataframe thead th {\n",
       "        text-align: right;\n",
       "    }\n",
       "</style>\n",
       "<table border=\"1\" class=\"dataframe\">\n",
       "  <thead>\n",
       "    <tr style=\"text-align: right;\">\n",
       "      <th></th>\n",
       "      <th>Row ID</th>\n",
       "      <th>Order ID</th>\n",
       "      <th>Order Date</th>\n",
       "      <th>Ship Date</th>\n",
       "      <th>Ship Mode</th>\n",
       "      <th>Customer ID</th>\n",
       "      <th>Customer Name</th>\n",
       "      <th>Segment</th>\n",
       "      <th>Country</th>\n",
       "      <th>City</th>\n",
       "      <th>State</th>\n",
       "      <th>Postal Code</th>\n",
       "      <th>Region</th>\n",
       "      <th>Product ID</th>\n",
       "      <th>Category</th>\n",
       "      <th>Sub-Category</th>\n",
       "      <th>Product Name</th>\n",
       "      <th>Sales</th>\n",
       "    </tr>\n",
       "  </thead>\n",
       "  <tbody>\n",
       "    <tr>\n",
       "      <th>0</th>\n",
       "      <td>1</td>\n",
       "      <td>CA-2017-152156</td>\n",
       "      <td>08/11/2017</td>\n",
       "      <td>11/11/2017</td>\n",
       "      <td>Second Class</td>\n",
       "      <td>CG-12520</td>\n",
       "      <td>Claire Gute</td>\n",
       "      <td>Consumer</td>\n",
       "      <td>United States</td>\n",
       "      <td>Henderson</td>\n",
       "      <td>Kentucky</td>\n",
       "      <td>42420</td>\n",
       "      <td>South</td>\n",
       "      <td>FUR-BO-10001798</td>\n",
       "      <td>Furniture</td>\n",
       "      <td>Bookcases</td>\n",
       "      <td>Bush Somerset Collection Bookcase</td>\n",
       "      <td>261.96</td>\n",
       "    </tr>\n",
       "    <tr>\n",
       "      <th>1</th>\n",
       "      <td>2</td>\n",
       "      <td>CA-2017-152156</td>\n",
       "      <td>08/11/2017</td>\n",
       "      <td>11/11/2017</td>\n",
       "      <td>Second Class</td>\n",
       "      <td>CG-12520</td>\n",
       "      <td>Claire Gute</td>\n",
       "      <td>Consumer</td>\n",
       "      <td>United States</td>\n",
       "      <td>Henderson</td>\n",
       "      <td>Kentucky</td>\n",
       "      <td>42420</td>\n",
       "      <td>South</td>\n",
       "      <td>FUR-CH-10000454</td>\n",
       "      <td>Furniture</td>\n",
       "      <td>Chairs</td>\n",
       "      <td>Hon Deluxe Fabric Upholstered Stacking Chairs,...</td>\n",
       "      <td>731.94</td>\n",
       "    </tr>\n",
       "  </tbody>\n",
       "</table>\n",
       "</div>"
      ],
      "text/plain": [
       "   Row ID        Order ID  Order Date   Ship Date     Ship Mode Customer ID  \\\n",
       "0       1  CA-2017-152156  08/11/2017  11/11/2017  Second Class    CG-12520   \n",
       "1       2  CA-2017-152156  08/11/2017  11/11/2017  Second Class    CG-12520   \n",
       "\n",
       "  Customer Name   Segment        Country       City     State  Postal Code  \\\n",
       "0   Claire Gute  Consumer  United States  Henderson  Kentucky        42420   \n",
       "1   Claire Gute  Consumer  United States  Henderson  Kentucky        42420   \n",
       "\n",
       "  Region       Product ID   Category Sub-Category  \\\n",
       "0  South  FUR-BO-10001798  Furniture    Bookcases   \n",
       "1  South  FUR-CH-10000454  Furniture       Chairs   \n",
       "\n",
       "                                        Product Name   Sales  \n",
       "0                  Bush Somerset Collection Bookcase  261.96  \n",
       "1  Hon Deluxe Fabric Upholstered Stacking Chairs,...  731.94  "
      ]
     },
     "execution_count": 16,
     "metadata": {},
     "output_type": "execute_result"
    }
   ],
   "source": [
    "df.head(2)"
   ]
  },
  {
   "cell_type": "code",
   "execution_count": 17,
   "id": "da194376-7aa8-4f22-8526-6f3b3d79d164",
   "metadata": {},
   "outputs": [
    {
     "name": "stdout",
     "output_type": "stream",
     "text": [
      "    Customer ID       Customer Name    Segment  Total Orders\n",
      "0      AA-10315          Alex Avila   Consumer            11\n",
      "1      AA-10375        Allen Armold   Consumer            15\n",
      "2      AA-10480        Andrew Allen   Consumer            12\n",
      "3      AA-10645       Anna Andreadi   Consumer            18\n",
      "4      AB-10015       Aaron Bergman   Consumer             6\n",
      "..          ...                 ...        ...           ...\n",
      "788    XP-21865        Xylona Preis   Consumer            28\n",
      "789    YC-21895      Yoseph Carroll  Corporate             8\n",
      "790    YS-21880       Yana Sorensen  Corporate            12\n",
      "791    ZC-21910    Zuschuss Carroll   Consumer            31\n",
      "792    ZD-21925  Zuschuss Donatelli   Consumer             9\n",
      "\n",
      "[793 rows x 4 columns]\n"
     ]
    }
   ],
   "source": [
    "# roup data according to: customer id, customer name,Segment and calc freq. of their orders\n",
    "\n",
    "customer_order_freq = df.groupby(['Customer ID','Customer Name','Segment'])['Order ID'].count().reset_index()\n",
    "\n",
    "#rename order id to total orders\n",
    "customer_order_freq.rename(columns= {'Order ID':'Total Orders'}, inplace= True)\n",
    "\n",
    "print(customer_order_freq)"
   ]
  },
  {
   "cell_type": "markdown",
   "id": "ef655bf3-dcf4-47c4-aeca-a32a58adbf77",
   "metadata": {},
   "source": [
    "### sort values in discending order to show most frequent customer"
   ]
  },
  {
   "cell_type": "code",
   "execution_count": 18,
   "id": "9fe46970-f863-4383-b41c-0ba595f7ecd4",
   "metadata": {},
   "outputs": [
    {
     "name": "stdout",
     "output_type": "stream",
     "text": [
      "  Customer ID        Customer Name      Segment  Total Orders\n",
      "0    WB-21850        William Brown     Consumer            35\n",
      "1    PP-18955           Paul Prost  Home Office            34\n",
      "2    MA-17560         Matt Abelman  Home Office            34\n",
      "3    JL-15835             John Lee     Consumer            33\n",
      "4    CK-12205  Chloris Kastensmidt     Consumer            32\n",
      "5    SV-20365          Seth Vernon     Consumer            32\n",
      "6    JD-15895     Jonathan Doherty    Corporate            32\n",
      "7    AP-10915       Arthur Prichep     Consumer            31\n",
      "8    ZC-21910     Zuschuss Carroll     Consumer            31\n",
      "9    EP-13915           Emily Phan     Consumer            31\n"
     ]
    }
   ],
   "source": [
    "#sort values and print top 10 customers\n",
    "sorted_curstomers= customer_order_freq.sort_values(by='Total Orders',ascending=False)\n",
    "print(sorted_curstomers.head(10).reset_index(drop=True))"
   ]
  },
  {
   "cell_type": "markdown",
   "id": "fd924b8a-c0f0-4aa7-82b6-613c7fb2cb1b",
   "metadata": {},
   "source": [
    "## Best customer in terms of sales"
   ]
  },
  {
   "cell_type": "code",
   "execution_count": 19,
   "id": "5a1005ea-14f8-4ec4-ba30-591cd724a0a7",
   "metadata": {},
   "outputs": [
    {
     "name": "stdout",
     "output_type": "stream",
     "text": [
      "    Customer ID       Customer Name    Segment  Total_Sales  Total_Orders\n",
      "0      AA-10315          Alex Avila   Consumer     5563.560            11\n",
      "1      AA-10375        Allen Armold   Consumer     1056.390            15\n",
      "2      AA-10480        Andrew Allen   Consumer     1790.512            12\n",
      "3      AA-10645       Anna Andreadi   Consumer     5086.935            18\n",
      "4      AB-10015       Aaron Bergman   Consumer      886.156             6\n",
      "..          ...                 ...        ...          ...           ...\n",
      "788    XP-21865        Xylona Preis   Consumer     2374.658            28\n",
      "789    YC-21895      Yoseph Carroll  Corporate     5454.350             8\n",
      "790    YS-21880       Yana Sorensen  Corporate     6720.444            12\n",
      "791    ZC-21910    Zuschuss Carroll   Consumer     8025.707            31\n",
      "792    ZD-21925  Zuschuss Donatelli   Consumer     1493.944             9\n",
      "\n",
      "[793 rows x 5 columns]\n"
     ]
    }
   ],
   "source": [
    "# roup data according to: customer id, customer name,Segment and calc total sales.\n",
    "\n",
    "#customer_total_sales = df.groupby(['Customer ID','Customer Name','Segment',['Order ID'].count()])['Sales'].sum().reset_index()\n",
    "\n",
    "#rename order id to total orders\n",
    "#customer_total_sales.rename(columns= {'Sales':'Total Sales'}, inplace= True)\n",
    "\n",
    "#print(customer_total_sales)\n",
    "\n",
    "# Group data by customer id, customer name, and segment, then calculate total sales and total orders.\n",
    "customer_total_sales = df.groupby(['Customer ID', 'Customer Name', 'Segment']).agg(\n",
    "    Total_Sales=('Sales', 'sum'),          # Sum of 'Sales'\n",
    "    Total_Orders=('Order ID', 'count')     # Count of 'Order ID'\n",
    ").reset_index()\n",
    "\n",
    "# Display the result\n",
    "print(customer_total_sales)\n"
   ]
  },
  {
   "cell_type": "markdown",
   "id": "3b1d3f50-7509-4a3e-aef2-4b955187f0c1",
   "metadata": {},
   "source": [
    "## sort values in discending order to show top 10 highest sales"
   ]
  },
  {
   "cell_type": "code",
   "execution_count": 20,
   "id": "169e4a06-4a27-48fa-99b3-684bc3a4683f",
   "metadata": {},
   "outputs": [
    {
     "name": "stdout",
     "output_type": "stream",
     "text": [
      "  Customer ID       Customer Name      Segment  Total_Sales  Total_Orders\n",
      "0    SM-20320         Sean Miller  Home Office    25043.050            15\n",
      "1    TC-20980        Tamara Chand    Corporate    19052.218            12\n",
      "2    RB-19360        Raymond Buch     Consumer    15117.339            18\n",
      "3    TA-21385        Tom Ashbrook  Home Office    14595.620            10\n",
      "4    AB-10105       Adrian Barton     Consumer    14473.571            20\n",
      "5    KL-16645        Ken Lonsdale     Consumer    14175.229            29\n",
      "6    SC-20095        Sanjit Chand     Consumer    14142.334            22\n",
      "7    HL-15040        Hunter Lopez     Consumer    12873.298            11\n",
      "8    SE-20110        Sanjit Engle     Consumer    12209.438            19\n",
      "9    CC-12370  Christopher Conant     Consumer    12129.072            11\n"
     ]
    }
   ],
   "source": [
    "#sort values and print top 10 customers\n",
    "sorted_top_curstomers= customer_total_sales.sort_values(by='Total_Sales',ascending=False)\n",
    "print(sorted_top_curstomers.head(10).reset_index(drop=True))"
   ]
  },
  {
   "cell_type": "markdown",
   "id": "b66e57c8-7a14-4058-97f6-3aedfda03bc4",
   "metadata": {},
   "source": [
    "## Mode of Shipping"
   ]
  },
  {
   "cell_type": "code",
   "execution_count": 21,
   "id": "31e62a1a-b46f-4092-b6d0-c639fdb0a4fb",
   "metadata": {},
   "outputs": [
    {
     "data": {
      "text/html": [
       "<div>\n",
       "<style scoped>\n",
       "    .dataframe tbody tr th:only-of-type {\n",
       "        vertical-align: middle;\n",
       "    }\n",
       "\n",
       "    .dataframe tbody tr th {\n",
       "        vertical-align: top;\n",
       "    }\n",
       "\n",
       "    .dataframe thead th {\n",
       "        text-align: right;\n",
       "    }\n",
       "</style>\n",
       "<table border=\"1\" class=\"dataframe\">\n",
       "  <thead>\n",
       "    <tr style=\"text-align: right;\">\n",
       "      <th></th>\n",
       "      <th>Row ID</th>\n",
       "      <th>Order ID</th>\n",
       "      <th>Order Date</th>\n",
       "      <th>Ship Date</th>\n",
       "      <th>Ship Mode</th>\n",
       "      <th>Customer ID</th>\n",
       "      <th>Customer Name</th>\n",
       "      <th>Segment</th>\n",
       "      <th>Country</th>\n",
       "      <th>City</th>\n",
       "      <th>State</th>\n",
       "      <th>Postal Code</th>\n",
       "      <th>Region</th>\n",
       "      <th>Product ID</th>\n",
       "      <th>Category</th>\n",
       "      <th>Sub-Category</th>\n",
       "      <th>Product Name</th>\n",
       "      <th>Sales</th>\n",
       "    </tr>\n",
       "  </thead>\n",
       "  <tbody>\n",
       "    <tr>\n",
       "      <th>0</th>\n",
       "      <td>1</td>\n",
       "      <td>CA-2017-152156</td>\n",
       "      <td>08/11/2017</td>\n",
       "      <td>11/11/2017</td>\n",
       "      <td>Second Class</td>\n",
       "      <td>CG-12520</td>\n",
       "      <td>Claire Gute</td>\n",
       "      <td>Consumer</td>\n",
       "      <td>United States</td>\n",
       "      <td>Henderson</td>\n",
       "      <td>Kentucky</td>\n",
       "      <td>42420</td>\n",
       "      <td>South</td>\n",
       "      <td>FUR-BO-10001798</td>\n",
       "      <td>Furniture</td>\n",
       "      <td>Bookcases</td>\n",
       "      <td>Bush Somerset Collection Bookcase</td>\n",
       "      <td>261.96</td>\n",
       "    </tr>\n",
       "    <tr>\n",
       "      <th>1</th>\n",
       "      <td>2</td>\n",
       "      <td>CA-2017-152156</td>\n",
       "      <td>08/11/2017</td>\n",
       "      <td>11/11/2017</td>\n",
       "      <td>Second Class</td>\n",
       "      <td>CG-12520</td>\n",
       "      <td>Claire Gute</td>\n",
       "      <td>Consumer</td>\n",
       "      <td>United States</td>\n",
       "      <td>Henderson</td>\n",
       "      <td>Kentucky</td>\n",
       "      <td>42420</td>\n",
       "      <td>South</td>\n",
       "      <td>FUR-CH-10000454</td>\n",
       "      <td>Furniture</td>\n",
       "      <td>Chairs</td>\n",
       "      <td>Hon Deluxe Fabric Upholstered Stacking Chairs,...</td>\n",
       "      <td>731.94</td>\n",
       "    </tr>\n",
       "  </tbody>\n",
       "</table>\n",
       "</div>"
      ],
      "text/plain": [
       "   Row ID        Order ID  Order Date   Ship Date     Ship Mode Customer ID  \\\n",
       "0       1  CA-2017-152156  08/11/2017  11/11/2017  Second Class    CG-12520   \n",
       "1       2  CA-2017-152156  08/11/2017  11/11/2017  Second Class    CG-12520   \n",
       "\n",
       "  Customer Name   Segment        Country       City     State  Postal Code  \\\n",
       "0   Claire Gute  Consumer  United States  Henderson  Kentucky        42420   \n",
       "1   Claire Gute  Consumer  United States  Henderson  Kentucky        42420   \n",
       "\n",
       "  Region       Product ID   Category Sub-Category  \\\n",
       "0  South  FUR-BO-10001798  Furniture    Bookcases   \n",
       "1  South  FUR-CH-10000454  Furniture       Chairs   \n",
       "\n",
       "                                        Product Name   Sales  \n",
       "0                  Bush Somerset Collection Bookcase  261.96  \n",
       "1  Hon Deluxe Fabric Upholstered Stacking Chairs,...  731.94  "
      ]
     },
     "execution_count": 21,
     "metadata": {},
     "output_type": "execute_result"
    }
   ],
   "source": [
    "df.head(2)"
   ]
  },
  {
   "cell_type": "code",
   "execution_count": 22,
   "id": "f15d62e6-1af5-4553-b6f9-84e350c17f7e",
   "metadata": {},
   "outputs": [
    {
     "name": "stdout",
     "output_type": "stream",
     "text": [
      "['Second Class' 'Standard Class' 'First Class' 'Same Day']\n"
     ]
    }
   ],
   "source": [
    "type_of_shipping = df['Ship Mode'].unique()\n",
    "print(type_of_shipping)"
   ]
  },
  {
   "cell_type": "code",
   "execution_count": 23,
   "id": "9a6b4762-8cfd-4850-bbc7-0a12905f1dec",
   "metadata": {},
   "outputs": [
    {
     "name": "stdout",
     "output_type": "stream",
     "text": [
      "        Ship Mode  Frequency\n",
      "0  Standard Class       5859\n",
      "1    Second Class       1902\n",
      "2     First Class       1501\n",
      "3        Same Day        538\n"
     ]
    }
   ],
   "source": [
    "# frequency of ship mode\n",
    "type_of_shipping=df['Ship Mode'].value_counts().reset_index()\n",
    "type_of_shipping= type_of_shipping.rename(columns={'count':'Frequency'})\n",
    "print(type_of_shipping)"
   ]
  },
  {
   "cell_type": "code",
   "execution_count": 24,
   "id": "6dca2e93-ccf9-4627-a1e9-8affde8fe13b",
   "metadata": {},
   "outputs": [
    {
     "data": {
      "image/png": "[encoded data removed]",
      "text/plain": [
       "<Figure size 640x480 with 1 Axes>"
      ]
     },
     "metadata": {},
     "output_type": "display_data"
    }
   ],
   "source": [
    "# plot a pie chart to represent the info.\n",
    "\n",
    "plt.pie(type_of_shipping['Frequency'], labels=type_of_shipping['Ship Mode'], autopct='%1.1f%%')\n",
    "plt.title('Mode of Shipment')\n",
    "plt.show()"
   ]
  },
  {
   "cell_type": "markdown",
   "id": "4f5a588c-fffe-4897-98ff-87f185b41688",
   "metadata": {},
   "source": [
    "## Geographical Analysis"
   ]
  },
  {
   "cell_type": "code",
   "execution_count": 25,
   "id": "14c7e804-1588-4b91-a282-0ed7b033fe7c",
   "metadata": {},
   "outputs": [
    {
     "name": "stdout",
     "output_type": "stream",
     "text": [
      "            State  Number of customers\n",
      "0      California                 1946\n",
      "1        New York                 1097\n",
      "2           Texas                  973\n",
      "3    Pennsylvania                  582\n",
      "4      Washington                  504\n",
      "5        Illinois                  483\n",
      "6            Ohio                  454\n",
      "7         Florida                  373\n",
      "8        Michigan                  253\n",
      "9  North Carolina                  247\n"
     ]
    }
   ],
   "source": [
    "# customer by state \n",
    "state = df['State'].value_counts().reset_index()\n",
    "\n",
    "state = state.rename(columns = {'count':'Number of customers'}) \n",
    "print(state.head(10))"
   ]
  },
  {
   "cell_type": "code",
   "execution_count": 26,
   "id": "a363a7f0-a6cb-454e-8c6d-632c1091e1d4",
   "metadata": {},
   "outputs": [
    {
     "name": "stdout",
     "output_type": "stream",
     "text": [
      "            City  Number of customers\n",
      "0  New York City                  891\n",
      "1    Los Angeles                  728\n",
      "2   Philadelphia                  532\n",
      "3  San Francisco                  500\n",
      "4        Seattle                  426\n",
      "5        Houston                  374\n",
      "6        Chicago                  308\n",
      "7       Columbus                  221\n",
      "8      San Diego                  170\n",
      "9    Springfield                  161\n"
     ]
    }
   ],
   "source": [
    "# customer by city\n",
    "city = df['City'].value_counts().reset_index()\n",
    "\n",
    "city = city.rename(columns = {'count':'Number of customers'}) \n",
    "print(city.head(10))"
   ]
  },
  {
   "cell_type": "code",
   "execution_count": 27,
   "id": "de18c2e4-a9f2-43b8-b5ea-578e7b22ddd3",
   "metadata": {},
   "outputs": [
    {
     "name": "stdout",
     "output_type": "stream",
     "text": [
      "          State  Total Sales\n",
      "0    California  446306.4635\n",
      "1      New York  306361.1470\n",
      "2         Texas  168572.5322\n",
      "3    Washington  135206.8500\n",
      "4  Pennsylvania  116276.6500\n",
      "5       Florida   88436.5320\n",
      "6      Illinois   79236.5170\n",
      "7      Michigan   76136.0740\n",
      "8          Ohio   75130.3500\n",
      "9      Virginia   70636.7200\n"
     ]
    }
   ],
   "source": [
    "# sales per state\n",
    "\n",
    "sales_state = df.groupby(['State'])['Sales'].sum().reset_index()\n",
    "\n",
    "sales_state = sales_state.rename(columns = {'Sales':'Total Sales'}) \n",
    "\n",
    "sorted_sales = sales_state.sort_values(by='Total Sales',ascending=False)\n",
    "print(sorted_sales.head(10).reset_index(drop=True))"
   ]
  },
  {
   "cell_type": "code",
   "execution_count": 28,
   "id": "ec2262ec-91e4-4d6d-9dc5-be2b7c87aa64",
   "metadata": {},
   "outputs": [
    {
     "name": "stdout",
     "output_type": "stream",
     "text": [
      "            City  Total Sales\n",
      "0  New York City  252462.5470\n",
      "1    Los Angeles  173420.1810\n",
      "2        Seattle  116106.3220\n",
      "3  San Francisco  109041.1200\n",
      "4   Philadelphia  108841.7490\n",
      "5        Houston   63956.1428\n",
      "6        Chicago   47820.1330\n",
      "7      San Diego   47521.0290\n",
      "8   Jacksonville   44713.1830\n",
      "9        Detroit   42446.9440\n"
     ]
    }
   ],
   "source": [
    "# sales per city\n",
    "\n",
    "sales_city = df.groupby(['City'])['Sales'].sum().reset_index()\n",
    "\n",
    "sales_city = sales_city.rename(columns = {'Sales':'Total Sales'}) \n",
    "\n",
    "sorted_city = sales_city.sort_values(by='Total Sales',ascending=False)\n",
    "print(sorted_city.head(10).reset_index(drop=True))"
   ]
  },
  {
   "cell_type": "markdown",
   "id": "c0e0414a-01c5-4f69-b0d3-3eb6c87c1e15",
   "metadata": {},
   "source": [
    "## product Analysis"
   ]
  },
  {
   "cell_type": "code",
   "execution_count": 29,
   "id": "22e017f8-2c4a-4744-8d73-3c094d4be7d9",
   "metadata": {},
   "outputs": [
    {
     "name": "stdout",
     "output_type": "stream",
     "text": [
      "['Furniture' 'Office Supplies' 'Technology']\n"
     ]
    }
   ],
   "source": [
    "type_of_product =df['Category'].unique()\n",
    "print(type_of_product)"
   ]
  },
  {
   "cell_type": "markdown",
   "id": "a2fee238-9b3d-4221-a1de-068c9bf7eb56",
   "metadata": {},
   "source": [
    "### sales per category"
   ]
  },
  {
   "cell_type": "code",
   "execution_count": 30,
   "id": "47994b31-54a2-4507-beb3-d667f804c12c",
   "metadata": {},
   "outputs": [
    {
     "name": "stdout",
     "output_type": "stream",
     "text": [
      "          Category        Sales\n",
      "0        Furniture  728658.5757\n",
      "1  Office Supplies  705422.3340\n",
      "2       Technology  827455.8730\n"
     ]
    }
   ],
   "source": [
    "# sales per category\n",
    "category_sales = df.groupby(['Category'])['Sales'].sum().reset_index()\n",
    "print(category_sales)"
   ]
  },
  {
   "cell_type": "markdown",
   "id": "401d515e-559f-4717-b873-56b575a476b3",
   "metadata": {},
   "source": [
    "#### ploting bar chart for representation"
   ]
  },
  {
   "cell_type": "code",
   "execution_count": 31,
   "id": "74c86559-074d-4623-b07d-13054241096c",
   "metadata": {},
   "outputs": [
    {
     "data": {
      "image/png": "[encoded data removed]",
      "text/plain": [
       "<Figure size 640x480 with 1 Axes>"
      ]
     },
     "metadata": {},
     "output_type": "display_data"
    }
   ],
   "source": [
    "plt.bar(category_sales['Category'],category_sales['Sales'])\n",
    "\n",
    "plt.title('Sales per category')\n",
    "plt.xlabel('Type of Product')\n",
    "plt.ylabel('Total Sales')\n",
    "plt.show()"
   ]
  },
  {
   "cell_type": "markdown",
   "id": "0388a09c-12d1-458b-94ec-2c18d86b0994",
   "metadata": {},
   "source": [
    "### sales per sub_category"
   ]
  },
  {
   "cell_type": "code",
   "execution_count": 32,
   "id": "1fc1e8cf-68d9-431f-b827-68e15bdfcce9",
   "metadata": {},
   "outputs": [
    {
     "name": "stdout",
     "output_type": "stream",
     "text": [
      "   Sub-Category  Total Sales\n",
      "0        Phones  327782.4480\n",
      "1        Chairs  322822.7310\n",
      "2       Storage  219343.3920\n",
      "3        Tables  202810.6280\n",
      "4       Binders  200028.7850\n",
      "5      Machines  189238.6310\n",
      "6   Accessories  164186.7000\n",
      "7       Copiers  146248.0940\n",
      "8     Bookcases  113813.1987\n",
      "9    Appliances  104618.4030\n",
      "10  Furnishings   89212.0180\n",
      "11        Paper   76828.3040\n",
      "12     Supplies   46420.3080\n",
      "13          Art   26705.4100\n",
      "14    Envelopes   16128.0460\n",
      "15       Labels   12347.7260\n",
      "16    Fasteners    3001.9600\n"
     ]
    }
   ],
   "source": [
    "# sales per sub_category\n",
    "subcategory_sales = df.groupby(['Sub-Category'])['Sales'].sum().reset_index()\n",
    "\n",
    "subcategory_sales = subcategory_sales.rename(columns = {'Sales':'Total Sales'}) \n",
    "\n",
    "sorted_subcategory = subcategory_sales.sort_values(by='Total Sales', ascending=False)\n",
    "print(sorted_subcategory.reset_index(drop=True))"
   ]
  },
  {
   "cell_type": "code",
   "execution_count": 33,
   "id": "fc216cfe-b69c-490d-b4da-9886149d8f4e",
   "metadata": {},
   "outputs": [
    {
     "data": {
      "image/png": "[encoded data removed]",
      "text/plain": [
       "<Figure size 640x480 with 1 Axes>"
      ]
     },
     "metadata": {},
     "output_type": "display_data"
    }
   ],
   "source": [
    "#plotting horizontal bar graph\n",
    "sorted_subcategory = subcategory_sales.sort_values(by='Total Sales', ascending=True)\n",
    "plt.barh(sorted_subcategory['Sub-Category'],sorted_subcategory['Total Sales'])\n",
    "\n",
    "plt.title('Sales per sub_category')\n",
    "plt.xlabel('Total Sales')\n",
    "plt.ylabel('Sub-Category')\n",
    "\n",
    "plt.show()"
   ]
  },
  {
   "cell_type": "markdown",
   "id": "2f360ca9-a595-4782-b26a-2cd13d21fee0",
   "metadata": {},
   "source": [
    "## sales trend analysis"
   ]
  },
  {
   "cell_type": "markdown",
   "id": "00a4ac97-7996-4306-a961-37d8a704ac6c",
   "metadata": {},
   "source": [
    "### Yearly sales"
   ]
  },
  {
   "cell_type": "code",
   "execution_count": 34,
   "id": "a2551af9-44eb-499b-8de3-8c89d4ca341d",
   "metadata": {
    "scrolled": true
   },
   "outputs": [
    {
     "name": "stdout",
     "output_type": "stream",
     "text": [
      "   Year  Total Sales\n",
      "0  2018  722052.0192\n",
      "1  2017  600192.5500\n",
      "2  2015  479856.2081\n",
      "3  2016  459436.0054\n"
     ]
    }
   ],
   "source": [
    "# Convert 'Order Date' to datetime format\n",
    "df['Order Date'] = pd.to_datetime(df['Order Date'], dayfirst=True)  # to begin with day-month-year \n",
    "\n",
    "# Grouping by year and summing sales per year\n",
    "yearly_sales = df.groupby(df['Order Date'].dt.year)['Sales'].sum().reset_index()\n",
    "\n",
    "# renaming the columns\n",
    "\n",
    "yearly_sales= yearly_sales.rename(columns={'Order Date':'Year','Sales':'Total Sales'})\n",
    "\n",
    "#sorting values\n",
    "\n",
    "sorted_yearly_sales =yearly_sales.sort_values(by = 'Total Sales', ascending= False) \n",
    "\n",
    "print(sorted_yearly_sales.reset_index(drop=True))\n"
   ]
  },
  {
   "cell_type": "markdown",
   "id": "de7a8353-f06f-4332-8495-309adf079c38",
   "metadata": {},
   "source": [
    "### Graphical representation"
   ]
  },
  {
   "cell_type": "code",
   "execution_count": 35,
   "id": "cd3ddf91-338f-4c72-a29d-a644f4d62e9c",
   "metadata": {},
   "outputs": [
    {
     "data": {
      "image/png": "[encoded data removed]",
      "text/plain": [
       "<Figure size 640x480 with 1 Axes>"
      ]
     },
     "metadata": {},
     "output_type": "display_data"
    }
   ],
   "source": [
    "plt.bar(yearly_sales['Year'],yearly_sales['Total Sales'])\n",
    "\n",
    "plt.title('Yearly Sales')\n",
    "plt.xlabel('Year')\n",
    "plt.ylabel('Total Sales')\n",
    "plt.xticks(rotation=65)\n",
    "plt.show()"
   ]
  },
  {
   "cell_type": "markdown",
   "id": "cdcdc531-acf5-4e0d-9dd2-e3c6dfb91b84",
   "metadata": {},
   "source": [
    "### Trend line representation"
   ]
  },
  {
   "cell_type": "code",
   "execution_count": 36,
   "id": "ad85c8ba-dfaf-435d-b8e0-3e6ca1f042fe",
   "metadata": {},
   "outputs": [
    {
     "data": {
      "image/png": "[encoded data removed]",
      "text/plain": [
       "<Figure size 640x480 with 1 Axes>"
      ]
     },
     "metadata": {},
     "output_type": "display_data"
    }
   ],
   "source": [
    "plt.plot(yearly_sales['Year'],yearly_sales['Total Sales'], marker='o', linestyle='-')\n",
    "\n",
    "plt.title('Yearly Sales')\n",
    "plt.xlabel('Year')\n",
    "plt.ylabel('Total Sales')\n",
    "plt.xticks(rotation=65)\n",
    "plt.show()"
   ]
  },
  {
   "cell_type": "markdown",
   "id": "bd10186a-026d-4de8-8483-387f9a1fd345",
   "metadata": {},
   "source": [
    "### Quaterly Trend analysis"
   ]
  },
  {
   "cell_type": "code",
   "execution_count": 51,
   "id": "f00acc2f-1ada-423e-a4e5-6fa424f26ec1",
   "metadata": {},
   "outputs": [
    {
     "name": "stdout",
     "output_type": "stream",
     "text": [
      "     Quaters  Total Sales\n",
      "0 2018-03-31  122260.8842\n",
      "1 2018-06-30  127558.6200\n",
      "2 2018-09-30  193815.8400\n",
      "3 2018-12-31  278416.6750\n"
     ]
    }
   ],
   "source": [
    "# Convert 'Order Date' to datetime format\n",
    "df['Order Date'] = pd.to_datetime(df['Order Date'], dayfirst=True)  # to begin with day-month-year \n",
    "\n",
    "# Filter data according to year\n",
    "\n",
    "year_sales = df[df['Order Date'].dt.year== 2018]  #only data from 2018\n",
    "\n",
    "Quaterly_sales = year_sales.resample('Q', on='Order Date')['Sales'].sum().reset_index() #resample is used to resample data based on a specific frequency like Q which represent quaterly\n",
    "\n",
    "# renaming the columns\n",
    "\n",
    "Quaterly_sales = Quaterly_sales.rename(columns={'Order Date':'Quaters','Sales':'Total Sales'})\n",
    "\n",
    "print(Quaterly_sales)\n"
   ]
  },
  {
   "cell_type": "markdown",
   "id": "befe2d69-3b01-4ffb-b81f-a02a916abe3b",
   "metadata": {},
   "source": [
    "### Trend line represantation"
   ]
  },
  {
   "cell_type": "code",
   "execution_count": 54,
   "id": "5334438b-64c7-4a03-8c1f-ab39f49f39a0",
   "metadata": {},
   "outputs": [
    {
     "data": {
      "image/png": "[encoded data removed]",
      "text/plain": [
       "<Figure size 640x480 with 1 Axes>"
      ]
     },
     "metadata": {},
     "output_type": "display_data"
    }
   ],
   "source": [
    "plt.plot(Quaterly_sales['Quaters'],Quaterly_sales['Total Sales'], marker='o', linestyle='--')\n",
    "\n",
    "plt.title('Quaterly Sales')\n",
    "plt.xlabel('Quaters')\n",
    "plt.ylabel('Total Sales')\n",
    "plt.xticks(rotation=65)\n",
    "plt.show()"
   ]
  },
  {
   "cell_type": "markdown",
   "id": "1d6cb3b9-9170-4094-b81f-c4243c51e137",
   "metadata": {},
   "source": [
    "## Monthly Trend Analysis"
   ]
  },
  {
   "cell_type": "code",
   "execution_count": 56,
   "id": "b7a7ff3a-f67b-4234-aab1-b6e4e70dd08e",
   "metadata": {},
   "outputs": [
    {
     "name": "stdout",
     "output_type": "stream",
     "text": [
      "       Months  Total Sales\n",
      "0  2018-01-31   43476.4740\n",
      "1  2018-02-28   19920.9974\n",
      "2  2018-03-31   58863.4128\n",
      "3  2018-04-30   35541.9101\n",
      "4  2018-05-31   43825.9822\n",
      "5  2018-06-30   48190.7277\n",
      "6  2018-07-31   44825.1040\n",
      "7  2018-08-31   62837.8480\n",
      "8  2018-09-30   86152.8880\n",
      "9  2018-10-31   77448.1312\n",
      "10 2018-11-30  117938.1550\n",
      "11 2018-12-31   83030.3888\n"
     ]
    }
   ],
   "source": [
    "# Convert 'Order Date' to datetime format\n",
    "df['Order Date'] = pd.to_datetime(df['Order Date'], dayfirst=True)  # to begin with day-month-year \n",
    "\n",
    "# Filter data according to year\n",
    "\n",
    "year_sales = df[df['Order Date'].dt.year== 2018]  #only data from 2018\n",
    "\n",
    "# Filter data according to months\n",
    "\n",
    "Monthly_sales = year_sales.resample('M', on='Order Date')['Sales'].sum().reset_index()\n",
    "\n",
    "# renaming the columns\n",
    "\n",
    "Monthly_sales = Monthly_sales.rename(columns={'Order Date':'Months','Sales':'Total Sales'})\n",
    "\n",
    "print(Monthly_sales)"
   ]
  },
  {
   "cell_type": "markdown",
   "id": "c7c5f1d6-c892-438d-a70b-7eb8c80a2baf",
   "metadata": {},
   "source": [
    "### Trendline representation"
   ]
  },
  {
   "cell_type": "code",
   "execution_count": 58,
   "id": "5b262818-c966-4a60-8cd3-7428ea83bfcf",
   "metadata": {},
   "outputs": [
    {
     "data": {
      "image/png": "[encoded data removed]",
      "text/plain": [
       "<Figure size 640x480 with 1 Axes>"
      ]
     },
     "metadata": {},
     "output_type": "display_data"
    }
   ],
   "source": [
    "plt.plot(Monthly_sales['Months'],Monthly_sales['Total Sales'], marker='o', linestyle='-.')\n",
    "\n",
    "plt.title('Monthly Sales Year 2018')\n",
    "plt.xlabel('Months')\n",
    "plt.ylabel('Total Sales')\n",
    "plt.xticks(rotation=45)\n",
    "plt.show()"
   ]
  },
  {
   "cell_type": "code",
   "execution_count": null,
   "id": "a4966226-2edd-4e13-8df3-2830702205bc",
   "metadata": {},
   "outputs": [],
   "source": []
  }
 ],
 "metadata": {
  "kernelspec": {
   "display_name": "Python 3 (ipykernel)",
   "language": "python",
   "name": "python3"
  },
  "language_info": {
   "codemirror_mode": {
    "name": "ipython",
    "version": 3
   },
   "file_extension": ".py",
   "mimetype": "text/x-python",
   "name": "python",
   "nbconvert_exporter": "python",
   "pygments_lexer": "ipython3",
   "version": "3.11.7"
  },
  "widgets": {
   "application/vnd.jupyter.widget-state+json": {
    "state": {},
    "version_major": 2,
    "version_minor": 0
   }
  }
 },
 "nbformat": 4,
 "nbformat_minor": 5
}
